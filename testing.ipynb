{
 "cells": [
  {
   "cell_type": "code",
   "execution_count": 2,
   "metadata": {},
   "outputs": [
    {
     "name": "stdout",
     "output_type": "stream",
     "text": [
      "{MultiType(DARK, ROCK), MultiType(DARK, STEEL), MultiType(NORMAL, ROCK), MultiType(GHOST, NORMAL), MultiType(STEEL, NORMAL)}\n"
     ]
    }
   ],
   "source": [
    "from complex_relationships import Effectiveness, MultiType, Type\n",
    "\n",
    "relationships = MultiType(Type.NORMAL, Type.GHOST).attack_coverage(MultiType.all_types(1) | MultiType.all_types(2))\n",
    "\n",
    "print(relationships.effective_attacks(Effectiveness.LESS_EFFECTIVE))"
   ]
  }
 ],
 "metadata": {
  "kernelspec": {
   "display_name": ".venv",
   "language": "python",
   "name": "python3"
  },
  "language_info": {
   "codemirror_mode": {
    "name": "ipython",
    "version": 3
   },
   "file_extension": ".py",
   "mimetype": "text/x-python",
   "name": "python",
   "nbconvert_exporter": "python",
   "pygments_lexer": "ipython3",
   "version": "3.10.12"
  }
 },
 "nbformat": 4,
 "nbformat_minor": 2
}
