{
 "cells": [
  {
   "cell_type": "code",
   "execution_count": 1,
   "metadata": {},
   "outputs": [
    {
     "ename": "TypeError",
     "evalue": "unhashable type: 'MultiType'",
     "output_type": "error",
     "traceback": [
      "\u001b[0;31m---------------------------------------------------------------------------\u001b[0m",
      "\u001b[0;31mTypeError\u001b[0m                                 Traceback (most recent call last)",
      "Cell \u001b[0;32mIn[1], line 4\u001b[0m\n\u001b[1;32m      1\u001b[0m \u001b[38;5;28;01mfrom\u001b[39;00m \u001b[38;5;21;01mcomplex_relationships\u001b[39;00m \u001b[38;5;28;01mimport\u001b[39;00m MultiType, Type\n\u001b[1;32m      3\u001b[0m MultiType({Type\u001b[38;5;241m.\u001b[39mGHOST})\u001b[38;5;241m.\u001b[39mdefense\u001b[38;5;241m.\u001b[39mrelationship\n\u001b[0;32m----> 4\u001b[0m \u001b[43mMultiType\u001b[49m\u001b[38;5;241;43m.\u001b[39;49m\u001b[43mall_types\u001b[49m\u001b[43m(\u001b[49m\u001b[38;5;241;43m1\u001b[39;49m\u001b[43m)\u001b[49m\n",
      "File \u001b[0;32m~/repos/type-theory/complex_relationships.py:32\u001b[0m, in \u001b[0;36mMultiType.all_types\u001b[0;34m(type_count)\u001b[0m\n\u001b[1;32m     30\u001b[0m \u001b[38;5;129m@staticmethod\u001b[39m\n\u001b[1;32m     31\u001b[0m \u001b[38;5;28;01mdef\u001b[39;00m \u001b[38;5;21mall_types\u001b[39m(type_count: \u001b[38;5;28mint\u001b[39m \u001b[38;5;241m=\u001b[39m \u001b[38;5;241m1\u001b[39m) \u001b[38;5;241m-\u001b[39m\u001b[38;5;241m>\u001b[39m \u001b[38;5;28mset\u001b[39m[MultiType]:\n\u001b[0;32m---> 32\u001b[0m     \u001b[38;5;28;01mreturn\u001b[39;00m {MultiType(\u001b[38;5;28mset\u001b[39m(types)) \u001b[38;5;28;01mfor\u001b[39;00m types \u001b[38;5;129;01min\u001b[39;00m combinations(Type, type_count)}\n",
      "File \u001b[0;32m~/repos/type-theory/complex_relationships.py:32\u001b[0m, in \u001b[0;36m<setcomp>\u001b[0;34m(.0)\u001b[0m\n\u001b[1;32m     30\u001b[0m \u001b[38;5;129m@staticmethod\u001b[39m\n\u001b[1;32m     31\u001b[0m \u001b[38;5;28;01mdef\u001b[39;00m \u001b[38;5;21mall_types\u001b[39m(type_count: \u001b[38;5;28mint\u001b[39m \u001b[38;5;241m=\u001b[39m \u001b[38;5;241m1\u001b[39m) \u001b[38;5;241m-\u001b[39m\u001b[38;5;241m>\u001b[39m \u001b[38;5;28mset\u001b[39m[MultiType]:\n\u001b[0;32m---> 32\u001b[0m     \u001b[38;5;28;01mreturn\u001b[39;00m {MultiType(\u001b[38;5;28mset\u001b[39m(types)) \u001b[38;5;28;01mfor\u001b[39;00m types \u001b[38;5;129;01min\u001b[39;00m combinations(Type, type_count)}\n",
      "\u001b[0;31mTypeError\u001b[0m: unhashable type: 'MultiType'"
     ]
    }
   ],
   "source": [
    "from complex_relationships import MultiType, Type\n",
    "\n",
    "MultiType({Type.GHOST}).defense.relationship\n",
    "MultiType.all_types(1)"
   ]
  }
 ],
 "metadata": {
  "kernelspec": {
   "display_name": ".venv",
   "language": "python",
   "name": "python3"
  },
  "language_info": {
   "codemirror_mode": {
    "name": "ipython",
    "version": 3
   },
   "file_extension": ".py",
   "mimetype": "text/x-python",
   "name": "python",
   "nbconvert_exporter": "python",
   "pygments_lexer": "ipython3",
   "version": "3.10.12"
  }
 },
 "nbformat": 4,
 "nbformat_minor": 2
}
