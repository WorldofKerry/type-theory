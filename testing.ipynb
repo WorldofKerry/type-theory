{
 "cells": [
  {
   "cell_type": "code",
   "execution_count": 1,
   "metadata": {},
   "outputs": [
    {
     "name": "stdout",
     "output_type": "stream",
     "text": [
      "{MultiType(FIRE, NORMAL): 0.0, MultiType(GRASS, NORMAL): 0.0, MultiType(FAIRY, NORMAL): 0.0, MultiType(DRAGON, NORMAL): 0.0, MultiType(DARK, ROCK): 0.5, MultiType(NORMAL): 0.0, MultiType(DARK, FIRE): 0.5, MultiType(DARK, GRASS): 0.5, MultiType(POISON, NORMAL): 0.0, MultiType(DARK, ELECTRIC): 0.5, MultiType(DARK, FAIRY): 0.5, MultiType(FLYING, NORMAL): 0.0, MultiType(DARK, BUG): 0.5, MultiType(GHOST, NORMAL): 0.0, MultiType(FIGHTING, NORMAL): 0.0, MultiType(NORMAL, ROCK): 0.0, MultiType(DARK, NORMAL): 0.0, MultiType(BUG, NORMAL): 0.0, MultiType(DARK, FIGHTING): 0.5, MultiType(DARK, STEEL): 0.5, MultiType(PSYCHIC, NORMAL): 0.0, MultiType(ICE, NORMAL): 0.0, MultiType(DARK): 0.5, MultiType(DARK, GROUND): 0.5, MultiType(DARK, ICE): 0.5, MultiType(DARK, DRAGON): 0.5, MultiType(NORMAL, STEEL): 0.0, MultiType(NORMAL, GROUND): 0.0, MultiType(DARK, FLYING): 0.5, MultiType(DARK, POISON): 0.5, MultiType(NORMAL, ELECTRIC): 0.0, MultiType(NORMAL, WATER): 0.0, MultiType(DARK, WATER): 0.5}\n",
      "[(FIGHTING, 1), (FAIRY, 3), (DRAGON, 4), (NORMAL, 5), (WATER, 6), (GROUND, 6), (FLYING, 6), (ROCK, 6), (POISON, 7), (BUG, 7), (FIRE, 8), (ELECTRIC, 8), (ICE, 8), (STEEL, 8), (GRASS, 14), (PSYCHIC, 18), (DARK, 18)]\n",
      "{MultiType(GHOST, NORMAL): 0.0}\n"
     ]
    },
    {
     "data": {
      "text/plain": [
       "{DARK: 2.0}"
      ]
     },
     "execution_count": 1,
     "metadata": {},
     "output_type": "execute_result"
    }
   ],
   "source": [
    "from complex_relationships import Effectiveness, MultiType, Type\n",
    "\n",
    "print(MultiType(Type.GHOST).attack_coverage(MultiType.all_types(2)).filter(Effectiveness.LESS_EFFECTIVE))\n",
    "\n",
    "ranking = {}\n",
    "for type in Type:\n",
    "    if type == Type.GHOST:\n",
    "        continue\n",
    "    ranking[type] = MultiType(Type.GHOST, type).attack_coverage(MultiType.all_types(2)).filter(Effectiveness.LESS_EFFECTIVE).__len__()\n",
    "print(sorted(ranking.items(), key=lambda x: x[1]))\n",
    "\n",
    "print(MultiType(Type.GHOST, Type.FIGHTING).attack_coverage(MultiType.all_types(2)).filter(Effectiveness.LESS_EFFECTIVE))\n",
    "\n",
    "MultiType(Type.NORMAL, Type.GHOST).defense().filter(Effectiveness.MORE_EFFECTIVE)"
   ]
  },
  {
   "cell_type": "code",
   "execution_count": 2,
   "metadata": {},
   "outputs": [
    {
     "data": {
      "text/plain": [
       "{MultiType(FIGHTING, STEEL): 0.5,\n",
       " MultiType(FAIRY, NORMAL): 0.5,\n",
       " MultiType(ICE, FAIRY): 0.5,\n",
       " MultiType(DARK, ROCK): 0.5,\n",
       " MultiType(FAIRY, BUG): 0.5,\n",
       " MultiType(DARK, FIRE): 0.5,\n",
       " MultiType(DARK, GRASS): 0.5,\n",
       " MultiType(FIGHTING, DRAGON): 0.5,\n",
       " MultiType(FAIRY): 0.5,\n",
       " MultiType(DARK, ELECTRIC): 0.5,\n",
       " MultiType(DARK, FAIRY): 0.5,\n",
       " MultiType(DARK, BUG): 0.5,\n",
       " MultiType(GRASS, FIGHTING): 0.5,\n",
       " MultiType(FIGHTING, NORMAL): 0.5,\n",
       " MultiType(FIGHTING, GROUND): 0.5,\n",
       " MultiType(FIGHTING, WATER): 0.5,\n",
       " MultiType(FAIRY, ROCK): 0.5,\n",
       " MultiType(ICE, FIGHTING): 0.5,\n",
       " MultiType(FAIRY, WATER): 0.5,\n",
       " MultiType(DARK, NORMAL): 0.5,\n",
       " MultiType(DARK, FIGHTING): 0.5,\n",
       " MultiType(DARK, STEEL): 0.5,\n",
       " MultiType(FAIRY, STEEL): 0.5,\n",
       " MultiType(DARK): 0.5,\n",
       " MultiType(POISON, FAIRY): 0.5,\n",
       " MultiType(DARK, GROUND): 0.5,\n",
       " MultiType(POISON, FIGHTING): 0.5,\n",
       " MultiType(DARK, ICE): 0.5,\n",
       " MultiType(DARK, DRAGON): 0.5,\n",
       " MultiType(FIGHTING, BUG): 0.5,\n",
       " MultiType(DRAGON, FAIRY): 0.5,\n",
       " MultiType(FAIRY, GROUND): 0.5,\n",
       " MultiType(FIGHTING, FAIRY): 0.5,\n",
       " MultiType(DARK, FLYING): 0.5,\n",
       " MultiType(DARK, POISON): 0.5,\n",
       " MultiType(FIGHTING, FIRE): 0.5,\n",
       " MultiType(FIRE, FAIRY): 0.5,\n",
       " MultiType(FIGHTING): 0.5,\n",
       " MultiType(FIGHTING, ELECTRIC): 0.5,\n",
       " MultiType(GRASS, FAIRY): 0.5,\n",
       " MultiType(FAIRY, ELECTRIC): 0.5,\n",
       " MultiType(FIGHTING, ROCK): 0.5,\n",
       " MultiType(FAIRY, FLYING): 0.5,\n",
       " MultiType(FIGHTING, FLYING): 0.5,\n",
       " MultiType(DARK, WATER): 0.5}"
      ]
     },
     "execution_count": 2,
     "metadata": {},
     "output_type": "execute_result"
    }
   ],
   "source": [
    "MultiType(Type.DARK).resisted_by(MultiType.all_types(2)).filter(Effectiveness.LESS_EFFECTIVE)"
   ]
  }
 ],
 "metadata": {
  "kernelspec": {
   "display_name": ".venv",
   "language": "python",
   "name": "python3"
  },
  "language_info": {
   "codemirror_mode": {
    "name": "ipython",
    "version": 3
   },
   "file_extension": ".py",
   "mimetype": "text/x-python",
   "name": "python",
   "nbconvert_exporter": "python",
   "pygments_lexer": "ipython3",
   "version": "3.10.12"
  }
 },
 "nbformat": 4,
 "nbformat_minor": 2
}
