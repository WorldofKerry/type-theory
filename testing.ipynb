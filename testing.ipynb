{
 "cells": [
  {
   "cell_type": "code",
   "execution_count": null,
   "metadata": {},
   "outputs": [
    {
     "name": "stdout",
     "output_type": "stream",
     "text": [
      "{MultiType(STEEL, NORMAL): 0.0, MultiType(NORMAL, FLYING): 0.0, MultiType(ICE, NORMAL): 0.0, MultiType(NORMAL, GRASS): 0.0, MultiType(NORMAL, FIGHTING): 0.0, MultiType(STEEL, DARK): 0.5, MultiType(BUG, DARK): 0.5, MultiType(PSYCHIC, NORMAL): 0.0, MultiType(DARK, FIRE): 0.5, MultiType(DARK, ELECTRIC): 0.5, MultiType(DARK, NORMAL): 0.0, MultiType(DARK, ROCK): 0.5, MultiType(ELECTRIC, NORMAL): 0.0, MultiType(DARK, GRASS): 0.5, MultiType(DRAGON, NORMAL): 0.0, MultiType(BUG, NORMAL): 0.0, MultiType(NORMAL, FIRE): 0.0, MultiType(NORMAL, ROCK): 0.0, MultiType(NORMAL, GHOST): 0.0, MultiType(DARK, GROUND): 0.5, MultiType(FAIRY, NORMAL): 0.0, MultiType(DARK, FLYING): 0.5, MultiType(DARK, WATER): 0.5, MultiType(GROUND, NORMAL): 0.0, MultiType(NORMAL): 0.0, MultiType(NORMAL, POISON): 0.0, MultiType(DARK): 0.5, MultiType(NORMAL, WATER): 0.0, MultiType(DARK, FAIRY): 0.5, MultiType(DARK, DRAGON): 0.5, MultiType(DARK, ICE): 0.5, MultiType(DARK, FIGHTING): 0.5, MultiType(DARK, POISON): 0.5}\n",
      "[(FIGHTING, 1), (FAIRY, 3), (DRAGON, 4), (NORMAL, 5), (WATER, 6), (GROUND, 6), (FLYING, 6), (ROCK, 6), (POISON, 7), (BUG, 7), (FIRE, 8), (ELECTRIC, 8), (ICE, 8), (STEEL, 8), (GRASS, 14), (PSYCHIC, 18), (DARK, 18)]\n",
      "{MultiType(NORMAL, GHOST): 0.0}\n"
     ]
    },
    {
     "data": {
      "text/plain": [
       "{DARK: 2.0}"
      ]
     },
     "execution_count": 1,
     "metadata": {},
     "output_type": "execute_result"
    }
   ],
   "source": [
    "from relationships import Effectiveness, MultiType, Type\n",
    "\n",
    "print(MultiType(Type.GHOST).attack_coverage(MultiType.all_types(2)).filter(Effectiveness.LESS_EFFECTIVE))\n",
    "\n",
    "ranking = {}\n",
    "for type in Type:\n",
    "    if type == Type.GHOST:\n",
    "        continue\n",
    "    ranking[type] = MultiType(Type.GHOST, type).attack_coverage(MultiType.all_types(2)).filter(Effectiveness.LESS_EFFECTIVE).__len__()\n",
    "print(sorted(ranking.items(), key=lambda x: x[1]))\n",
    "\n",
    "print(MultiType(Type.GHOST, Type.FIGHTING).attack_coverage(MultiType.all_types(2)).filter(Effectiveness.LESS_EFFECTIVE))\n",
    "\n",
    "MultiType(Type.NORMAL, Type.GHOST).defense().filter(Effectiveness.MORE_EFFECTIVE)"
   ]
  },
  {
   "cell_type": "code",
   "execution_count": 2,
   "metadata": {},
   "outputs": [
    {
     "data": {
      "text/plain": [
       "{MultiType(FIGHTING): 0.5, MultiType(DARK): 0.5, MultiType(FAIRY): 0.5}"
      ]
     },
     "execution_count": 2,
     "metadata": {},
     "output_type": "execute_result"
    }
   ],
   "source": [
    "MultiType(Type.DARK).resisted_by(MultiType.all_types(1)).filter(lambda x: x <= 0.5)"
   ]
  },
  {
   "cell_type": "code",
   "execution_count": 3,
   "metadata": {},
   "outputs": [
    {
     "data": {
      "text/plain": [
       "{MultiType(STEEL, NORMAL): 0.5,\n",
       " MultiType(STEEL, DARK): 0.5,\n",
       " MultiType(DARK, ROCK): 0.5,\n",
       " MultiType(NORMAL, ROCK): 0.5,\n",
       " MultiType(NORMAL, GHOST): 0.0}"
      ]
     },
     "execution_count": 3,
     "metadata": {},
     "output_type": "execute_result"
    }
   ],
   "source": [
    "MultiType(Type.GHOST, Type.NORMAL).attack_coverage(MultiType.all_types(2)).filter(Effectiveness.LESS_EFFECTIVE)"
   ]
  },
  {
   "cell_type": "code",
   "execution_count": 4,
   "metadata": {},
   "outputs": [
    {
     "data": {
      "text/plain": [
       "{MultiType(BUG, FLYING): 4.0,\n",
       " MultiType(FAIRY, ROCK): 4.0,\n",
       " MultiType(FAIRY, ICE): 4.0,\n",
       " MultiType(ICE, FIRE): 4.0,\n",
       " MultiType(FLYING, FIRE): 4.0,\n",
       " MultiType(ICE, FLYING): 4.0,\n",
       " MultiType(ICE, ROCK): 4.0,\n",
       " MultiType(BUG, ICE): 4.0,\n",
       " MultiType(BUG, FIRE): 4.0}"
      ]
     },
     "execution_count": 4,
     "metadata": {},
     "output_type": "execute_result"
    }
   ],
   "source": [
    "MultiType(Type.ROCK, Type.STEEL).attack_coverage(MultiType.all_types(2)).filter(lambda x: x >= 4)"
   ]
  },
  {
   "cell_type": "code",
   "execution_count": 5,
   "metadata": {},
   "outputs": [
    {
     "data": {
      "text/plain": [
       "{NORMAL: 0.0, FIGHTING: 0.0, GHOST: 0.0}"
      ]
     },
     "execution_count": 5,
     "metadata": {},
     "output_type": "execute_result"
    }
   ],
   "source": [
    "MultiType(Type.NORMAL, Type.GHOST).defense().filter(Effectiveness.NO_EFFECT)"
   ]
  },
  {
   "cell_type": "code",
   "execution_count": 11,
   "metadata": {},
   "outputs": [
    {
     "data": {
      "text/plain": [
       "{MultiType(STEEL, NORMAL): 4.0,\n",
       " MultiType(ICE, NORMAL): 4.0,\n",
       " MultiType(STEEL, DARK): 4.0,\n",
       " MultiType(STEEL, ICE): 4.0,\n",
       " MultiType(DARK, NORMAL): 4.0,\n",
       " MultiType(DARK, ROCK): 4.0,\n",
       " MultiType(NORMAL, ROCK): 4.0,\n",
       " MultiType(ICE, ROCK): 4.0,\n",
       " MultiType(STEEL, ROCK): 4.0,\n",
       " MultiType(DARK, ICE): 4.0}"
      ]
     },
     "execution_count": 11,
     "metadata": {},
     "output_type": "execute_result"
    }
   ],
   "source": [
    "MultiType(Type.FIGHTING).attack_coverage(MultiType.all_types(2)).filter(Effectiveness.QUADRUPLE_EFFECTIVE)"
   ]
  },
  {
   "cell_type": "code",
   "execution_count": 12,
   "metadata": {},
   "outputs": [
    {
     "data": {
      "text/plain": [
       "{MultiType(PSYCHIC, GHOST): 4.0}"
      ]
     },
     "execution_count": 12,
     "metadata": {},
     "output_type": "execute_result"
    }
   ],
   "source": [
    "MultiType(Type.GHOST).attack_coverage(MultiType.all_types(2)).filter(Effectiveness.QUADRUPLE_EFFECTIVE)"
   ]
  }
 ],
 "metadata": {
  "kernelspec": {
   "display_name": ".venv",
   "language": "python",
   "name": "python3"
  },
  "language_info": {
   "codemirror_mode": {
    "name": "ipython",
    "version": 3
   },
   "file_extension": ".py",
   "mimetype": "text/x-python",
   "name": "python",
   "nbconvert_exporter": "python",
   "pygments_lexer": "ipython3",
   "version": "3.10.12"
  }
 },
 "nbformat": 4,
 "nbformat_minor": 2
}
