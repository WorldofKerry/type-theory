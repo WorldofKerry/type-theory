{
 "cells": [
  {
   "cell_type": "code",
   "execution_count": 2,
   "metadata": {},
   "outputs": [
    {
     "ename": "TypeError",
     "evalue": "MultiType.__init__() takes 2 positional arguments but 3 were given",
     "output_type": "error",
     "traceback": [
      "\u001b[0;31m---------------------------------------------------------------------------\u001b[0m",
      "\u001b[0;31mTypeError\u001b[0m                                 Traceback (most recent call last)",
      "Cell \u001b[0;32mIn[2], line 3\u001b[0m\n\u001b[1;32m      1\u001b[0m \u001b[38;5;28;01mfrom\u001b[39;00m \u001b[38;5;21;01mcomplex_relationships\u001b[39;00m \u001b[38;5;28;01mimport\u001b[39;00m MultiType, Type\n\u001b[0;32m----> 3\u001b[0m \u001b[43mMultiType\u001b[49m\u001b[43m(\u001b[49m\u001b[43mType\u001b[49m\u001b[38;5;241;43m.\u001b[39;49m\u001b[43mNORMAL\u001b[49m\u001b[43m,\u001b[49m\u001b[43m \u001b[49m\u001b[43mType\u001b[49m\u001b[38;5;241;43m.\u001b[39;49m\u001b[43mGHOST\u001b[49m\u001b[43m)\u001b[49m\u001b[38;5;241m.\u001b[39mattack_coverage(MultiType\u001b[38;5;241m.\u001b[39mall_types(\u001b[38;5;241m1\u001b[39m) \u001b[38;5;241m|\u001b[39m MultiType\u001b[38;5;241m.\u001b[39mall_types(\u001b[38;5;241m2\u001b[39m))\n",
      "\u001b[0;31mTypeError\u001b[0m: MultiType.__init__() takes 2 positional arguments but 3 were given"
     ]
    }
   ],
   "source": [
    "from complex_relationships import MultiType, Type\n",
    "\n",
    "MultiType(Type.NORMAL, Type.GHOST).attack_coverage(MultiType.all_types(1) | MultiType.all_types(2))"
   ]
  }
 ],
 "metadata": {
  "kernelspec": {
   "display_name": ".venv",
   "language": "python",
   "name": "python3"
  },
  "language_info": {
   "codemirror_mode": {
    "name": "ipython",
    "version": 3
   },
   "file_extension": ".py",
   "mimetype": "text/x-python",
   "name": "python",
   "nbconvert_exporter": "python",
   "pygments_lexer": "ipython3",
   "version": "3.10.12"
  }
 },
 "nbformat": 4,
 "nbformat_minor": 2
}
