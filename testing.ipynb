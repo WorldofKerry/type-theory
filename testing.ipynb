{
 "cells": [
  {
   "cell_type": "code",
   "execution_count": null,
   "metadata": {},
   "outputs": [
    {
     "name": "stdout",
     "output_type": "stream",
     "text": [
      "{MultiType(NORMAL, STEEL): 0.5, MultiType(NORMAL, ROCK): 0.5, MultiType(DARK, ROCK): 0.5, MultiType(DARK, STEEL): 0.5, MultiType(GHOST, NORMAL): 0.0}\n"
     ]
    }
   ],
   "source": [
    "from complex_relationships import Effectiveness, MultiType, Type\n",
    "\n",
    "relationships = MultiType(Type.NORMAL, Type.GHOST).attack_coverage(MultiType.all_types(2))\n",
    "\n",
    "print(relationships.filter(Effectiveness.LESS_EFFECTIVE))"
   ]
  }
 ],
 "metadata": {
  "kernelspec": {
   "display_name": ".venv",
   "language": "python",
   "name": "python3"
  },
  "language_info": {
   "codemirror_mode": {
    "name": "ipython",
    "version": 3
   },
   "file_extension": ".py",
   "mimetype": "text/x-python",
   "name": "python",
   "nbconvert_exporter": "python",
   "pygments_lexer": "ipython3",
   "version": "3.10.12"
  }
 },
 "nbformat": 4,
 "nbformat_minor": 2
}
